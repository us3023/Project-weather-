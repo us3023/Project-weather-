{
 "cells": [
  {
   "cell_type": "code",
   "execution_count": 1,
   "id": "bdd3709a",
   "metadata": {},
   "outputs": [
    {
     "ename": "KeyError",
     "evalue": "'main'",
     "output_type": "error",
     "traceback": [
      "\u001b[1;31m---------------------------------------------------------------------------\u001b[0m",
      "\u001b[1;31mKeyError\u001b[0m                                  Traceback (most recent call last)",
      "\u001b[1;32m<ipython-input-1-1fff60420135>\u001b[0m in \u001b[0;36m<module>\u001b[1;34m\u001b[0m\n\u001b[0;32m     40\u001b[0m \u001b[1;33m\u001b[0m\u001b[0m\n\u001b[0;32m     41\u001b[0m         \u001b[0mfont\u001b[0m \u001b[1;33m=\u001b[0m \u001b[0mImageFont\u001b[0m\u001b[1;33m.\u001b[0m\u001b[0mtruetype\u001b[0m\u001b[1;33m(\u001b[0m\u001b[1;34m'Inter.ttf'\u001b[0m\u001b[1;33m,\u001b[0m \u001b[0msize\u001b[0m\u001b[1;33m=\u001b[0m\u001b[1;36m50\u001b[0m\u001b[1;33m)\u001b[0m\u001b[1;33m\u001b[0m\u001b[1;33m\u001b[0m\u001b[0m\n\u001b[1;32m---> 42\u001b[1;33m         \u001b[0mcontent\u001b[0m \u001b[1;33m=\u001b[0m \u001b[0mstr\u001b[0m\u001b[1;33m(\u001b[0m\u001b[0mdata\u001b[0m\u001b[1;33m[\u001b[0m\u001b[1;34m'main'\u001b[0m\u001b[1;33m]\u001b[0m\u001b[1;33m[\u001b[0m\u001b[1;34m'temp'\u001b[0m\u001b[1;33m]\u001b[0m\u001b[1;33m)\u001b[0m \u001b[1;33m+\u001b[0m \u001b[1;34m\"\\u00b0\"\u001b[0m\u001b[1;33m\u001b[0m\u001b[1;33m\u001b[0m\u001b[0m\n\u001b[0m\u001b[0;32m     43\u001b[0m         \u001b[0mcolor\u001b[0m \u001b[1;33m=\u001b[0m \u001b[1;34m'rgb(255, 255, 255)'\u001b[0m\u001b[1;33m\u001b[0m\u001b[1;33m\u001b[0m\u001b[0m\n\u001b[0;32m     44\u001b[0m         \u001b[1;33m(\u001b[0m\u001b[0mx\u001b[0m\u001b[1;33m,\u001b[0m \u001b[0my\u001b[0m\u001b[1;33m)\u001b[0m \u001b[1;33m=\u001b[0m \u001b[1;33m(\u001b[0m\u001b[1;36m600\u001b[0m\u001b[1;33m,\u001b[0m \u001b[0mposition\u001b[0m\u001b[1;33m[\u001b[0m\u001b[0mindex\u001b[0m\u001b[1;33m]\u001b[0m\u001b[1;33m)\u001b[0m\u001b[1;33m\u001b[0m\u001b[1;33m\u001b[0m\u001b[0m\n",
      "\u001b[1;31mKeyError\u001b[0m: 'main'"
     ]
    }
   ],
   "source": [
    "import requests\n",
    "import json\n",
    "from PIL import Image, ImageFont, ImageDraw \n",
    "from datetime import date\n",
    "\n",
    "api_key = \"c54f07b0d8562b57525xxxxxxxxxxxxx\" #Update Your API Here\n",
    "position = [300, 430, 555, 690, 825]\n",
    "\n",
    "uk_list = [\"London\", \"Manchester\", \"Edinburgh\", \"Bristol\", \"Birmingham\"]\n",
    "india_list = [\"Jaipur\", \"Delhi\", \"Mumbai\", \"Kolkata\", \"Chennai\"]\n",
    "us_list = [\"New York\", \"Chicago\", \"San Francisco\", \"Los Angeles\", \"San Diego\"]\n",
    "country_list = [uk_list, india_list, us_list]\n",
    "\n",
    "for country in country_list:\n",
    "    image = Image.open(\"post.png\")\n",
    "    draw = ImageDraw.Draw(image)\n",
    "\n",
    "    font = ImageFont.truetype('Inter.ttf', size=50)\n",
    "    content = \"Latest Weather Forecast\"\n",
    "    color = 'rgb(255, 255, 255)'\n",
    "    (x, y) = (55,50)\n",
    "    draw.text((x, y), content, color, font=font)\n",
    "\n",
    "    font = ImageFont.truetype('Inter.ttf', size=30)\n",
    "    content = date.today().strftime(\"%A - %B %d, %Y\")\n",
    "    color = 'rgb(255, 255, 255)'\n",
    "    (x, y) = (55,145)\n",
    "    draw.text((x, y), content, color, font=font)\n",
    "\n",
    "    index = 0\n",
    "    for city in country:\n",
    "        url = \"http://api.openweathermap.org/data/2.5/weather?q={}&appid={}&units=metric\".format(city, api_key)\n",
    "        response = requests.get(url)\n",
    "        data = json.loads(response.text)\n",
    "\n",
    "        font = ImageFont.truetype('Inter.ttf', size=50)\n",
    "        color = 'rgb(0, 0, 0)'\n",
    "        (x, y) = (135, position[index])\n",
    "        draw.text((x, y), city, color, font=font)\n",
    "\n",
    "        font = ImageFont.truetype('Inter.ttf', size=50)\n",
    "        content = str(data['main']['temp']) + \"\\u00b0\"\n",
    "        color = 'rgb(255, 255, 255)'\n",
    "        (x, y) = (600, position[index])\n",
    "        draw.text((x, y), content, color, font=font)\n",
    "\n",
    "        font = ImageFont.truetype('Inter.ttf', size=50)\n",
    "        content = str(data['main']['humidity']) + \"%\"\n",
    "        color = 'rgb(255, 255, 255)'\n",
    "        (x, y) = (810, position[index])\n",
    "        draw.text((x, y), content, color, font=font)\n",
    "\n",
    "        index += 1\n",
    "        \n",
    "    image.save(str(date.today()) + country[0] + \".png\")\n",
    "    image_pdf = image.convert('RGB')\n",
    "    image_pdf.save(str(date.today()) + country[0] + \".pdf\")\n"
   ]
  },
  {
   "cell_type": "code",
   "execution_count": null,
   "id": "b4be7062",
   "metadata": {},
   "outputs": [],
   "source": []
  }
 ],
 "metadata": {
  "kernelspec": {
   "display_name": "Python 3",
   "language": "python",
   "name": "python3"
  },
  "language_info": {
   "codemirror_mode": {
    "name": "ipython",
    "version": 3
   },
   "file_extension": ".py",
   "mimetype": "text/x-python",
   "name": "python",
   "nbconvert_exporter": "python",
   "pygments_lexer": "ipython3",
   "version": "3.8.8"
  }
 },
 "nbformat": 4,
 "nbformat_minor": 5
}
